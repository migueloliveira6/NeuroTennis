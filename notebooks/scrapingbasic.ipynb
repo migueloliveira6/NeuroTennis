{
 "cells": [
  {
   "cell_type": "code",
   "execution_count": 1,
   "id": "be172220",
   "metadata": {},
   "outputs": [],
   "source": [
    "import requests\n",
    "from bs4 import BeautifulSoup\n",
    "import re\n",
    "\n",
    "def extrair_jogos_torneio(url_torneio):\n",
    "    headers = {\"User-Agent\": \"Mozilla/5.0\"}\n",
    "    res = requests.get(url_torneio, headers=headers)\n",
    "    soup = BeautifulSoup(res.text, \"html.parser\")\n",
    "    \n",
    "    tabela = soup.select_one(\"div#tournamentTabs-1-data table.result\")\n",
    "    if not tabela:\n",
    "        print(\"Tabela de jogos não encontrada.\")\n",
    "        return []\n",
    "    \n",
    "    jogos = []\n",
    "    for row in tabela.select(\"tbody tr\"):\n",
    "        nome_celula = row.find(\"td\", class_=\"t-name\")\n",
    "        if nome_celula:\n",
    "            nome_partida = nome_celula.get_text(strip=True)\n",
    "            odds = row.find_all(\"td\", class_=\"course\")\n",
    "            if len(odds) == 2:\n",
    "                try:\n",
    "                    odd1 = float(odds[0].get_text(strip=True))\n",
    "                    odd2 = float(odds[1].get_text(strip=True))\n",
    "                except:\n",
    "                    odd1, odd2 = None, None\n",
    "            else:\n",
    "                odd1, odd2 = None, None\n",
    "            \n",
    "            # Separar nomes com hífen\n",
    "            jogadores = re.split(r\"\\s*-\\s*\", nome_partida)\n",
    "            if len(jogadores) == 2:\n",
    "                jogos.append({\n",
    "                    \"player1\": jogadores[0],\n",
    "                    \"player2\": jogadores[1],\n",
    "                    \"odd1\": odd1,\n",
    "                    \"odd2\": odd2\n",
    "                })\n",
    "    \n",
    "    return jogos\n",
    "\n"
   ]
  },
  {
   "cell_type": "code",
   "execution_count": 2,
   "id": "cf492366",
   "metadata": {},
   "outputs": [
    {
     "name": "stdout",
     "output_type": "stream",
     "text": [
      "Moutet vs Altmaier (8) — Odds: 1.44 / 2.77\n",
      "Michelsen (3) vs Holt — Odds: 1.31 / 3.46\n",
      "Shelton (1) vs Tien — Odds: 1.27 / 3.75\n",
      "Medjedovic vs Auger Aliassime (2) — Odds: 2.76 / 1.43\n",
      "Diallo (6) vs Griekspoor (4) — Odds: 1.82 / 1.96\n"
     ]
    }
   ],
   "source": [
    "url = \"https://www.tennisexplorer.com/mallorca/2025/atp-men/\"\n",
    "jogos = extrair_jogos_torneio(url)\n",
    "\n",
    "for jogo in jogos:\n",
    "    print(f\"{jogo['player1']} vs {jogo['player2']} — Odds: {jogo['odd1']} / {jogo['odd2']}\")\n"
   ]
  }
 ],
 "metadata": {
  "kernelspec": {
   "display_name": "Python 3",
   "language": "python",
   "name": "python3"
  },
  "language_info": {
   "codemirror_mode": {
    "name": "ipython",
    "version": 3
   },
   "file_extension": ".py",
   "mimetype": "text/x-python",
   "name": "python",
   "nbconvert_exporter": "python",
   "pygments_lexer": "ipython3",
   "version": "3.13.5"
  }
 },
 "nbformat": 4,
 "nbformat_minor": 5
}
