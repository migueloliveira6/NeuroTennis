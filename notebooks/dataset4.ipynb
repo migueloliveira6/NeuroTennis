{
 "cells": [
  {
   "cell_type": "code",
   "execution_count": 5,
   "id": "fc46a307",
   "metadata": {},
   "outputs": [],
   "source": [
    "import pandas as pd\n",
    "import numpy as np\n",
    "from collections import defaultdict\n",
    "matches = pd.read_csv('atp_matches_with_surface_elo.csv')"
   ]
  },
  {
   "cell_type": "code",
   "execution_count": 6,
   "id": "b6058621",
   "metadata": {},
   "outputs": [],
   "source": [
    "def create_player_elo_dataset(matches_df):\n",
    "    \"\"\"\n",
    "    Cria um dataset com jogadores e seus ELOs por superfície\n",
    "    \n",
    "    Args:\n",
    "        matches_df: DataFrame com todas as partidas (deve conter colunas:\n",
    "                   winner_name, loser_name, surface, winner_surface_elo, loser_surface_elo)\n",
    "    \n",
    "    Returns:\n",
    "        DataFrame com jogadores e ELOs por superfície\n",
    "    \"\"\"\n",
    "    # Dicionário para armazenar os dados\n",
    "    players_data = defaultdict(dict)\n",
    "    \n",
    "    # Lista única de todas as superfícies presentes nos dados\n",
    "    surfaces = matches_df['surface'].dropna().unique()\n",
    "    \n",
    "    # Processar cada partida para coletar ELOs\n",
    "    for _, row in matches_df.iterrows():\n",
    "        if pd.isna(row['surface']):\n",
    "            continue\n",
    "            \n",
    "        # Processar vencedor\n",
    "        winner = row['winner_name']\n",
    "        if winner not in players_data:\n",
    "            players_data[winner] = {'name': winner}\n",
    "        players_data[winner][f'elo_{row[\"surface\"]}'] = row['winner_surface_elo']\n",
    "        \n",
    "        # Processar perdedor\n",
    "        loser = row['loser_name']\n",
    "        if loser not in players_data:\n",
    "            players_data[loser] = {'name': loser}\n",
    "        players_data[loser][f'elo_{row[\"surface\"]}'] = row['loser_surface_elo']\n",
    "    \n",
    "    # Converter para DataFrame\n",
    "    players_df = pd.DataFrame(players_data.values())\n",
    "    \n",
    "    # Adicionar estatísticas resumidas\n",
    "    for surface in surfaces:\n",
    "        if f'elo_{surface}' in players_df.columns:\n",
    "            players_df[f'matches_{surface}'] = players_df.apply(\n",
    "                lambda x: count_matches(matches_df, x['name'], surface), axis=1)\n",
    "    \n",
    "    # Calcular ELO médio (ponderado por número de partidas em cada superfície)\n",
    "    players_df['elo_overall'] = players_df.apply(calculate_weighted_elo, axis=1, surfaces=surfaces)\n",
    "    \n",
    "    # Ordenar por ELO geral\n",
    "    players_df = players_df.sort_values('elo_overall', ascending=False)\n",
    "    \n",
    "    return players_df.reset_index(drop=True)\n",
    "\n",
    "def count_matches(matches_df, player_name, surface):\n",
    "    \"\"\"Conta quantas partidas um jogador teve em determinada superfície\"\"\"\n",
    "    return len(matches_df[\n",
    "        ((matches_df['winner_name'] == player_name) | \n",
    "         (matches_df['loser_name'] == player_name)) & \n",
    "        (matches_df['surface'] == surface)\n",
    "    ])\n",
    "\n",
    "def calculate_weighted_elo(row, surfaces):\n",
    "    \"\"\"Calcula ELO médio ponderado pelo número de partidas em cada superfície\"\"\"\n",
    "    total_matches = 0\n",
    "    weighted_sum = 0\n",
    "    \n",
    "    for surface in surfaces:\n",
    "        elo_col = f'elo_{surface}'\n",
    "        matches_col = f'matches_{surface}'\n",
    "        \n",
    "        if elo_col in row and matches_col in row and not pd.isna(row[elo_col]):\n",
    "            matches = row[matches_col]\n",
    "            if matches > 0:\n",
    "                weighted_sum += row[elo_col] * matches\n",
    "                total_matches += matches\n",
    "    \n",
    "    return weighted_sum / total_matches if total_matches > 0 else np.nan"
   ]
  },
  {
   "cell_type": "code",
   "execution_count": 7,
   "id": "8a0c8272",
   "metadata": {},
   "outputs": [],
   "source": [
    "players_elo = create_player_elo_dataset(matches)"
   ]
  },
  {
   "cell_type": "code",
   "execution_count": 8,
   "id": "cb79dcc6",
   "metadata": {},
   "outputs": [
    {
     "name": "stdout",
     "output_type": "stream",
     "text": [
      "                    name     elo_Hard   elo_Carpet     elo_Clay    elo_Grass  \\\n",
      "0          Jannik Sinner  2213.912883          NaN  1832.195931  1721.237624   \n",
      "1         Novak Djokovic  2108.466194  1603.140946  2026.777276  2013.418349   \n",
      "2          Roger Federer  2053.490748  1787.780354  1940.660892  1949.636711   \n",
      "3  Juan Martin del Potro  2018.416677  1554.121507  1857.979118  1751.312286   \n",
      "4         Carlos Alcaraz  1961.072130          NaN  1971.619828  1787.920476   \n",
      "\n",
      "   matches_Hard  matches_Carpet  matches_Clay  matches_Grass  elo_overall  \n",
      "0           245               0            78             30  2087.697075  \n",
      "1           848              13           361            141  2072.178099  \n",
      "2           953              69           300            223  2004.725425  \n",
      "3           433               8           122             58  1955.969337  \n",
      "4           139               0            99             27  1947.370724  \n"
     ]
    }
   ],
   "source": [
    "# 3. Salve o resultado\n",
    "players_elo.to_csv('players_elo_by_surface.csv', index=False)\n",
    "\n",
    "# 4. Visualize\n",
    "print(players_elo.head())"
   ]
  },
  {
   "cell_type": "code",
   "execution_count": 10,
   "id": "f1ad93f9",
   "metadata": {},
   "outputs": [
    {
     "name": "stdout",
     "output_type": "stream",
     "text": [
      "Colunas a serem removidas: ['elo_Carpet', 'matches_Carpet']\n",
      "\n",
      "Colunas de carpete removidas com sucesso!\n",
      "\n",
      "Colunas no dataset filtrado:\n",
      "['name', 'elo_Hard', 'elo_Clay', 'elo_Grass', 'matches_Hard', 'matches_Clay', 'matches_Grass', 'elo_overall']\n"
     ]
    }
   ],
   "source": [
    "# Carregar o dataset original\n",
    "players_elo = pd.read_csv('players_elo_by_surface.csv')\n",
    "\n",
    "# Lista de colunas para remover relacionadas a carpete\n",
    "columns_to_drop = [col for col in players_elo.columns \n",
    "                  if 'carpet' in col.lower()]\n",
    "\n",
    "# Mostrar quais colunas serão removidas\n",
    "print(\"Colunas a serem removidas:\", columns_to_drop)\n",
    "\n",
    "# Remover as colunas (se existirem)\n",
    "if columns_to_drop:\n",
    "    players_elo = players_elo.drop(columns=columns_to_drop)\n",
    "    print(\"\\nColunas de carpete removidas com sucesso!\")\n",
    "else:\n",
    "    print(\"\\nNenhuma coluna de carpete encontrada no dataset.\")\n",
    "\n",
    "# Salvar o novo dataset\n",
    "players_elo.to_csv('players_elo_by_surface_filtered.csv', index=False)\n",
    "\n",
    "# Mostrar as colunas restantes\n",
    "print(\"\\nColunas no dataset filtrado:\")\n",
    "print(players_elo.columns.tolist())"
   ]
  }
 ],
 "metadata": {
  "kernelspec": {
   "display_name": "Python 3",
   "language": "python",
   "name": "python3"
  },
  "language_info": {
   "codemirror_mode": {
    "name": "ipython",
    "version": 3
   },
   "file_extension": ".py",
   "mimetype": "text/x-python",
   "name": "python",
   "nbconvert_exporter": "python",
   "pygments_lexer": "ipython3",
   "version": "3.13.5"
  }
 },
 "nbformat": 4,
 "nbformat_minor": 5
}
